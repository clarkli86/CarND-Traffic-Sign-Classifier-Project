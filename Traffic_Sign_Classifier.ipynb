{
 "cells": [
  {
   "cell_type": "markdown",
   "metadata": {},
   "source": [
    "# Self-Driving Car Engineer Nanodegree\n",
    "\n",
    "## Deep Learning\n",
    "\n",
    "## Project: Build a Traffic Sign Recognition Classifier\n",
    "\n",
    "In this notebook, a template is provided for you to implement your functionality in stages, which is required to successfully complete this project. If additional code is required that cannot be included in the notebook, be sure that the Python code is successfully imported and included in your submission if necessary. \n",
    "\n",
    "> **Note**: Once you have completed all of the code implementations, you need to finalize your work by exporting the iPython Notebook as an HTML document. Before exporting the notebook to html, all of the code cells need to have been run so that reviewers can see the final implementation and output. You can then export the notebook by using the menu above and navigating to  \\n\",\n",
    "    \"**File -> Download as -> HTML (.html)**. Include the finished document along with this notebook as your submission. \n",
    "\n",
    "In addition to implementing code, there is a writeup to complete. The writeup should be completed in a separate file, which can be either a markdown file or a pdf document. There is a [write up template](https://github.com/udacity/CarND-Traffic-Sign-Classifier-Project/blob/master/writeup_template.md) that can be used to guide the writing process. Completing the code template and writeup template will cover all of the [rubric points](https://review.udacity.com/#!/rubrics/481/view) for this project.\n",
    "\n",
    "The [rubric](https://review.udacity.com/#!/rubrics/481/view) contains \"Stand Out Suggestions\" for enhancing the project beyond the minimum requirements. The stand out suggestions are optional. If you decide to pursue the \"stand out suggestions\", you can include the code in this Ipython notebook and also discuss the results in the writeup file.\n",
    "\n",
    "\n",
    ">**Note:** Code and Markdown cells can be executed using the **Shift + Enter** keyboard shortcut. In addition, Markdown cells can be edited by typically double-clicking the cell to enter edit mode."
   ]
  },
  {
   "cell_type": "markdown",
   "metadata": {},
   "source": [
    "---\n",
    "## Step 0: Load The Data"
   ]
  },
  {
   "cell_type": "code",
   "execution_count": 7,
   "metadata": {},
   "outputs": [],
   "source": [
    "# Load pickled data\n",
    "import pickle\n",
    "\n",
    "# TODO: Fill this in based on where you saved the training and testing data\n",
    "\n",
    "training_file = 'train.p'\n",
    "validation_file = 'valid.p'\n",
    "testing_file = 'test.p'\n",
    "\n",
    "with open(training_file, mode='rb') as f:\n",
    "    train = pickle.load(f)\n",
    "with open(validation_file, mode='rb') as f:\n",
    "    valid = pickle.load(f)\n",
    "with open(testing_file, mode='rb') as f:\n",
    "    test = pickle.load(f)\n",
    "    \n",
    "X_train, y_train = train['features'], train['labels']\n",
    "X_validation, y_validation = valid['features'], valid['labels']\n",
    "X_test, y_test = test['features'], test['labels']"
   ]
  },
  {
   "cell_type": "markdown",
   "metadata": {},
   "source": [
    "---\n",
    "\n",
    "## Step 1: Dataset Summary & Exploration\n",
    "\n",
    "The pickled data is a dictionary with 4 key/value pairs:\n",
    "\n",
    "- `'features'` is a 4D array containing raw pixel data of the traffic sign images, (num examples, width, height, channels).\n",
    "- `'labels'` is a 1D array containing the label/class id of the traffic sign. The file `signnames.csv` contains id -> name mappings for each id.\n",
    "- `'sizes'` is a list containing tuples, (width, height) representing the original width and height the image.\n",
    "- `'coords'` is a list containing tuples, (x1, y1, x2, y2) representing coordinates of a bounding box around the sign in the image. **THESE COORDINATES ASSUME THE ORIGINAL IMAGE. THE PICKLED DATA CONTAINS RESIZED VERSIONS (32 by 32) OF THESE IMAGES**\n",
    "\n",
    "Complete the basic data summary below. Use python, numpy and/or pandas methods to calculate the data summary rather than hard coding the results. For example, the [pandas shape method](http://pandas.pydata.org/pandas-docs/stable/generated/pandas.DataFrame.shape.html) might be useful for calculating some of the summary results. "
   ]
  },
  {
   "cell_type": "markdown",
   "metadata": {},
   "source": [
    "### Provide a Basic Summary of the Data Set Using Python, Numpy and/or Pandas"
   ]
  },
  {
   "cell_type": "code",
   "execution_count": 2,
   "metadata": {},
   "outputs": [
    {
     "name": "stdout",
     "output_type": "stream",
     "text": [
      "Number of training examples = 34799\n",
      "Number of testing examples = 12630\n",
      "Image data shape = [[ 26  25]\n",
      " [ 27  27]\n",
      " [ 27  28]\n",
      " ..., \n",
      " [194 169]\n",
      " [201 175]\n",
      " [230 201]]\n",
      "Number of classes = 43\n"
     ]
    }
   ],
   "source": [
    "### Replace each question mark with the appropriate value. \n",
    "### Use python, pandas or numpy methods rather than hard coding the results\n",
    "\n",
    "# TODO: Number of training examples\n",
    "n_train = len(train['features'])\n",
    "\n",
    "# TODO: Number of validation examples\n",
    "n_validation = len(valid['features'])\n",
    "\n",
    "# TODO: Number of testing examples.\n",
    "n_test = len(test['features'])\n",
    "\n",
    "# TODO: What's the shape of an traffic sign image?\n",
    "image_shape = train['sizes']\n",
    "\n",
    "# TODO: How many unique classes/labels there are in the dataset.\n",
    "n_classes = len(set(train['labels']))\n",
    "\n",
    "print(\"Number of training examples =\", n_train)\n",
    "print(\"Number of testing examples =\", n_test)\n",
    "print(\"Image data shape =\", image_shape)\n",
    "print(\"Number of classes =\", n_classes)"
   ]
  },
  {
   "cell_type": "markdown",
   "metadata": {},
   "source": [
    "### Include an exploratory visualization of the dataset"
   ]
  },
  {
   "cell_type": "markdown",
   "metadata": {},
   "source": [
    "Visualize the German Traffic Signs Dataset using the pickled file(s). This is open ended, suggestions include: plotting traffic sign images, plotting the count of each sign, etc. \n",
    "\n",
    "The [Matplotlib](http://matplotlib.org/) [examples](http://matplotlib.org/examples/index.html) and [gallery](http://matplotlib.org/gallery.html) pages are a great resource for doing visualizations in Python.\n",
    "\n",
    "**NOTE:** It's recommended you start with something simple first. If you wish to do more, come back to it after you've completed the rest of the sections. It can be interesting to look at the distribution of classes in the training, validation and test set. Is the distribution the same? Are there more examples of some classes than others?"
   ]
  },
  {
   "cell_type": "code",
   "execution_count": 3,
   "metadata": {},
   "outputs": [
    {
     "data": {
      "text/plain": [
       "(array([  60.,  720.,  750.,  450.,  660.,  630.,  150.,  450.,  450.,\n",
       "         480.,  660.,  420.,  690.,  720.,  270.,  210.,  150.,  360.,\n",
       "         390.,   60.,   90.,   90.,  120.,  150.,   90.,  480.,  180.,\n",
       "          60.,  150.,   90.,  150.,  270.,   60.,  210.,  120.,  390.,\n",
       "         120.,   60.,  690.,   90.,   90.,  150.]),\n",
       " array([ 0,  1,  2,  3,  4,  5,  6,  7,  8,  9, 10, 11, 12, 13, 14, 15, 16,\n",
       "        17, 18, 19, 20, 21, 22, 23, 24, 25, 26, 27, 28, 29, 30, 31, 32, 33,\n",
       "        34, 35, 36, 37, 38, 39, 40, 41, 42], dtype=uint8),\n",
       " <a list of 42 Patch objects>)"
      ]
     },
     "execution_count": 3,
     "metadata": {},
     "output_type": "execute_result"
    },
    {
     "data": {
      "image/png": "[encoded data removed]",
      "text/plain": [
       "<matplotlib.figure.Figure at 0x7fc3f52a10b8>"
      ]
     },
     "metadata": {},
     "output_type": "display_data"
    },
    {
     "data": {
      "image/png": "[encoded data removed]",
      "text/plain": [
       "<matplotlib.figure.Figure at 0x7fc41075f2b0>"
      ]
     },
     "metadata": {},
     "output_type": "display_data"
    },
    {
     "data": {
      "image/png": "[encoded data removed]",
      "text/plain": [
       "<matplotlib.figure.Figure at 0x7fc3e54ae2e8>"
      ]
     },
     "metadata": {},
     "output_type": "display_data"
    },
    {
     "data": {
      "image/png": "[encoded data removed]",
      "text/plain": [
       "<matplotlib.figure.Figure at 0x7fc3e5328198>"
      ]
     },
     "metadata": {},
     "output_type": "display_data"
    }
   ],
   "source": [
    "### Data exploration visualization code goes here.\n",
    "### Feel free to use as many code cells as needed.\n",
    "import matplotlib.pyplot as plt\n",
    "# Visualizations will be shown in the notebook.\n",
    "%matplotlib inline\n",
    "\n",
    "import random\n",
    "import numpy as np\n",
    "\n",
    "random_train = random.randint(0, n_train)\n",
    "assert(len(X_train[random_train]) == 32)\n",
    "plt.figure()\n",
    "plt.title('Picture {} in train is classified as {}'.format(random_train, train['labels'][random_train]))\n",
    "plt.imshow(X_train[random_train])\n",
    "\n",
    "# Distribution of classes in training\n",
    "unique_elements, counts_elements = np.unique(train['labels'], return_counts=True)\n",
    "plt.figure()\n",
    "plt.title('Distribution in train')\n",
    "plt.xlabel('Class')\n",
    "plt.ylabel('Count')\n",
    "plt.hist(train['labels'], bins=unique_elements)\n",
    "\n",
    "unique_elements, counts_elements = np.unique(valid['labels'], return_counts=True)\n",
    "plt.figure()\n",
    "plt.title('Distribution in valid')\n",
    "plt.xlabel('Class')\n",
    "plt.ylabel('Count')\n",
    "plt.hist(valid['labels'], bins=unique_elements)\n",
    "\n",
    "unique_elements, counts_elements = np.unique(test['labels'], return_counts=True)\n",
    "plt.figure()\n",
    "plt.title('Distribution in test')\n",
    "plt.xlabel('Class')\n",
    "plt.ylabel('Count')\n",
    "plt.hist(test['labels'], bins=unique_elements)"
   ]
  },
  {
   "cell_type": "markdown",
   "metadata": {},
   "source": [
    "----\n",
    "\n",
    "## Step 2: Design and Test a Model Architecture\n",
    "\n",
    "Design and implement a deep learning model that learns to recognize traffic signs. Train and test your model on the [German Traffic Sign Dataset](http://benchmark.ini.rub.de/?section=gtsrb&subsection=dataset).\n",
    "\n",
    "The LeNet-5 implementation shown in the [classroom](https://classroom.udacity.com/nanodegrees/nd013/parts/fbf77062-5703-404e-b60c-95b78b2f3f9e/modules/6df7ae49-c61c-4bb2-a23e-6527e69209ec/lessons/601ae704-1035-4287-8b11-e2c2716217ad/concepts/d4aca031-508f-4e0b-b493-e7b706120f81) at the end of the CNN lesson is a solid starting point. You'll have to change the number of classes and possibly the preprocessing, but aside from that it's plug and play! \n",
    "\n",
    "With the LeNet-5 solution from the lecture, you should expect a validation set accuracy of about 0.89. To meet specifications, the validation set accuracy will need to be at least 0.93. It is possible to get an even higher accuracy, but 0.93 is the minimum for a successful project submission. \n",
    "\n",
    "There are various aspects to consider when thinking about this problem:\n",
    "\n",
    "- Neural network architecture (is the network over or underfitting?)\n",
    "- Play around preprocessing techniques (normalization, rgb to grayscale, etc)\n",
    "- Number of examples per label (some have more than others).\n",
    "- Generate fake data.\n",
    "\n",
    "Here is an example of a [published baseline model on this problem](http://yann.lecun.com/exdb/publis/pdf/sermanet-ijcnn-11.pdf). It's not required to be familiar with the approach used in the paper but, it's good practice to try to read papers like these."
   ]
  },
  {
   "cell_type": "markdown",
   "metadata": {},
   "source": [
    "### Pre-process the Data Set (normalization, grayscale, etc.)"
   ]
  },
  {
   "cell_type": "markdown",
   "metadata": {},
   "source": [
    "Minimally, the image data should be normalized so that the data has mean zero and equal variance. For image data, `(pixel - 128)/ 128` is a quick way to approximately normalize the data and can be used in this project. \n",
    "\n",
    "Other pre-processing steps are optional. You can try different techniques to see if it improves performance. \n",
    "\n",
    "Use the code cell (or multiple code cells, if necessary) to implement the first step of your project."
   ]
  },
  {
   "cell_type": "code",
   "execution_count": 4,
   "metadata": {},
   "outputs": [],
   "source": [
    "import tensorflow as tf\n",
    "### Hyperparameters\n",
    "### @TODO Explore hyperparamter space\n",
    "GRAY_SCALE = False\n",
    "NUM_CHANNELS = 3\n",
    "rate = 0.001\n",
    "# L2 regularisation\n",
    "beta = 0.00\n",
    "EPOCHS = 30\n",
    "BATCH_SIZE = 128\n",
    "USE_DROPOUT = True\n",
    "DROPOUT_RATE = 0.5\n",
    "USE_BATCH_NORM = False\n",
    "USE_EXTENDED_TRAINING_DATA = True\n",
    "\n",
    "### Constants\n",
    "# Small epsilon value for the BN transform\n",
    "epsilon = 1e-3"
   ]
  },
  {
   "cell_type": "code",
   "execution_count": 5,
   "metadata": {},
   "outputs": [],
   "source": [
    "### Preprocess the data here. It is required to normalize the data. Other preprocessing steps could include \n",
    "### converting to grayscale, etc.\n",
    "### Feel free to use as many code cells as needed.\n",
    "import cv2\n",
    "\n",
    "if GRAY_SCALE:\n",
    "    NUM_CHANNELS = 1\n",
    "    train['features_grayscale'] = []\n",
    "    for i in range(n_train):\n",
    "        train['features_grayscale'].append(cv2.cvtColor(train['features'][i], cv2.COLOR_BGR2GRAY))\n",
    "\n",
    "    valid['features_grayscale'] = []\n",
    "    for i in range(n_validation):\n",
    "        valid['features_grayscale'].append(cv2.cvtColor(valid['features'][i], cv2.COLOR_BGR2GRAY))\n",
    "\n",
    "    test['features_grayscale'] = []\n",
    "    for i in range(n_test):\n",
    "        test['features_grayscale'].append(cv2.cvtColor(test['features'][i], cv2.COLOR_BGR2GRAY))\n",
    "\n",
    "    train['features_grayscale'] = np.asarray(train['features_grayscale']).reshape((n_train, 32, 32, 1))\n",
    "    valid['features_grayscale'] = np.asarray(valid['features_grayscale']).reshape((n_validation, 32, 32, 1))\n",
    "    test['features_grayscale'] = np.asarray(test['features_grayscale']).reshape((n_test, 32, 32, 1))\n",
    "    \n",
    "    X_train = train['features_grayscale']\n",
    "    X_validation = valid['features_grayscale']\n",
    "    X_test = test['features_grayscale']"
   ]
  },
  {
   "cell_type": "code",
   "execution_count": 18,
   "metadata": {},
   "outputs": [
    {
     "name": "stdout",
     "output_type": "stream",
     "text": [
      "(34799, 32, 32, 3)\n",
      "(34799, 32, 32, 3)\n",
      "(34799, 32, 32, 3)\n",
      "(34799, 32, 32, 3)\n",
      "(34799, 32, 32, 3)\n"
     ]
    },
    {
     "data": {
      "image/png": "[encoded data removed]",
      "text/plain": [
       "<matplotlib.figure.Figure at 0x7fc3e532f860>"
      ]
     },
     "metadata": {},
     "output_type": "display_data"
    },
    {
     "data": {
      "image/png": "[encoded data removed]",
      "text/plain": [
       "<matplotlib.figure.Figure at 0x7fc3e52b0e48>"
      ]
     },
     "metadata": {},
     "output_type": "display_data"
    },
    {
     "data": {
      "image/png": "[encoded data removed]",
      "text/plain": [
       "<matplotlib.figure.Figure at 0x7fc3e5429f98>"
      ]
     },
     "metadata": {},
     "output_type": "display_data"
    },
    {
     "data": {
      "image/png": "[encoded data removed]",
      "text/plain": [
       "<matplotlib.figure.Figure at 0x7fc3e54b5240>"
      ]
     },
     "metadata": {},
     "output_type": "display_data"
    },
    {
     "data": {
      "image/png": "[encoded data removed]",
      "text/plain": [
       "<matplotlib.figure.Figure at 0x7fc3be686080>"
      ]
     },
     "metadata": {},
     "output_type": "display_data"
    }
   ],
   "source": [
    "# Create extended training data here\n",
    "\n",
    "# Add random offset [-2, 2] to traning data\n",
    "def add_offset(X_train):     \n",
    "    X_train_aug = []\n",
    "    for i in range(len(X_train)):\n",
    "        rand_offset_X = random.randint(-2, 2)\n",
    "        rand_offset_Y = random.randint(-2, 2)\n",
    "        img = cv2.warpAffine(X_train[i], np.float32([[1,0,rand_offset_X],[0,1,rand_offset_Y]]),(32, 32))\n",
    "        X_train_aug.append(img)\n",
    "    return np.asarray(X_train_aug)\n",
    "\n",
    "# Add random rotation [-15, 15] to traning data\n",
    "def add_rotation(X_train):     \n",
    "    X_train_aug = []\n",
    "    for i in range(len(X_train)):\n",
    "        rand_rot = random.randint(-15000, 15000) * 0.001\n",
    "        img = img = cv2.warpAffine(X_train[i], cv2.getRotationMatrix2D((32/2,32/2),rand_rot,1),(32,32))\n",
    "        X_train_aug.append(img)\n",
    "    return np.asarray(X_train_aug)\n",
    "\n",
    "# Add random scaling [0.9, 1.1] to traning data\n",
    "def add_scaling(X_train):\n",
    "    X_train_aug = []\n",
    "    for i in range(len(X_train)):\n",
    "        rand_scale = random.randint(900, 1100) * 0.001        \n",
    "        img = cv2.resize(X_train[i],None,fx=rand_scale, fy=rand_scale)\n",
    "        if img.shape[0] < 32:\n",
    "            pad = np.zeros((32, 32, NUM_CHANNELS), dtype=np.uint8)\n",
    "            pad[:img.shape[0], :img.shape[1]] = img\n",
    "            img = pad\n",
    "        X_train_aug.append(img[:32, :32, :])    \n",
    "    return np.asarray(X_train_aug)\n",
    "\n",
    "# Add gaussian noise to traning data\n",
    "def add_noise(X_train):\n",
    "    X_train_aug = []\n",
    "    for i in range(len(X_train)):\n",
    "        img = X_train[i]\n",
    "        row,col,ch= img.shape\n",
    "        mean = 0\n",
    "        var = 5\n",
    "        sigma = var**0.5\n",
    "        gauss = np.random.normal(mean,sigma,(row,col,ch))\n",
    "        gauss = gauss.reshape(row,col,ch)\n",
    "        noisy = (img + gauss).astype(np.uint8)\n",
    "        X_train_aug.append(noisy)\n",
    "    return np.asarray(X_train_aug)\n",
    "\n",
    "if USE_EXTENDED_TRAINING_DATA:\n",
    "    X_train_offset = add_offset(X_train)\n",
    "    X_train_rot = add_rotation(X_train)\n",
    "    X_train_scale = add_scaling(X_train)\n",
    "    X_train_noise = add_noise(X_train)\n",
    "\n",
    "    X_train = np.concatenate((X_train, X_train_rot, X_train_offset, X_train_scale, X_train_noise), axis=0)\n",
    "    y_train = np.concatenate((y_train, y_train, y_train, y_train, y_train), axis=0)\n",
    "\n",
    "    random_train = random.randint(0, n_train)\n",
    "    \n",
    "    plt.figure()\n",
    "    plt.title('Original')\n",
    "    plt.imshow(X_train[random_train])    \n",
    "    plt.figure()\n",
    "    plt.title('Random Offset')\n",
    "    plt.imshow(X_train_offset[random_train])\n",
    "    plt.figure()\n",
    "    plt.title('Random Rotation')\n",
    "    plt.imshow(X_train_rot[random_train])\n",
    "    plt.figure()\n",
    "    plt.title('Random Scale')\n",
    "    plt.imshow(X_train_scale[random_train])\n",
    "    plt.figure()\n",
    "    plt.title('Gaussian Noise')\n",
    "    plt.imshow(X_train_noise[random_train])"
   ]
  },
  {
   "cell_type": "code",
   "execution_count": 19,
   "metadata": {},
   "outputs": [],
   "source": [
    "# Convert pixels to signed before normalising\n",
    "X_train = X_train.astype(np.int16)\n",
    "X_validation = X_validation.astype(np.int16)\n",
    "X_test = X_test.astype(np.int16)\n",
    "# Normalise features\n",
    "X_train = (X_train - 128) / 128\n",
    "X_validation = (X_validation - 128) / 128\n",
    "X_test = (X_test - 128) / 128\n",
    "#print(X_train)"
   ]
  },
  {
   "cell_type": "markdown",
   "metadata": {},
   "source": [
    "### Model Architecture"
   ]
  },
  {
   "cell_type": "code",
   "execution_count": 20,
   "metadata": {},
   "outputs": [],
   "source": [
    "### Define your architecture here.\n",
    "### Feel free to use as many code cells as needed.\n",
    "from tensorflow.contrib.layers import flatten\n",
    "\n",
    "# this is a simpler version of Tensorflow's 'official' version. See:\n",
    "# https://github.com/tensorflow/tensorflow/blob/master/tensorflow/contrib/layers/python/layers/layers.py#L102\n",
    "def batch_norm_wrapper(inputs, is_training, decay = 0.999):\n",
    "\n",
    "    scale = tf.Variable(tf.ones([inputs.get_shape()[-1]]))\n",
    "    beta = tf.Variable(tf.zeros([inputs.get_shape()[-1]]))\n",
    "    pop_mean = tf.Variable(tf.zeros([inputs.get_shape()[-1]]), trainable=False)\n",
    "    pop_var = tf.Variable(tf.ones([inputs.get_shape()[-1]]), trainable=False)\n",
    "\n",
    "    if is_training:\n",
    "        batch_mean, batch_var = tf.nn.moments(inputs,[0])\n",
    "        train_mean = tf.assign(pop_mean,\n",
    "                               pop_mean * decay + batch_mean * (1 - decay))\n",
    "        train_var = tf.assign(pop_var,\n",
    "                              pop_var * decay + batch_var * (1 - decay))\n",
    "        with tf.control_dependencies([train_mean, train_var]):\n",
    "            return tf.nn.batch_normalization(inputs,\n",
    "                batch_mean, batch_var, beta, scale, epsilon)\n",
    "    else:\n",
    "        return tf.nn.batch_normalization(inputs,\n",
    "            pop_mean, pop_var, beta, scale, epsilon)\n",
    "    \n",
    "def LeNet(is_training):    \n",
    "    # Arguments used for tf.truncated_normal, randomly defines variables for the weights and biases for each layer\n",
    "    mu = 0\n",
    "    sigma = 0.1\n",
    "    \n",
    "    dropout_keep_prob = tf.placeholder(tf.float32, name='dropout_keep_prob')\n",
    "\n",
    "    x = tf.placeholder(tf.float32, (None, 32, 32, NUM_CHANNELS))\n",
    "    y = tf.placeholder(tf.int32, (None))\n",
    "    one_hot_y = tf.one_hot(y, 43)\n",
    "    \n",
    "    # Layer 1: Convolutional. Input = 32x32x3. Output = 28x28x6.\n",
    "    weights_c1 = tf.Variable(tf.truncated_normal([5, 5, NUM_CHANNELS, 16], mean=mu, stddev=sigma))\n",
    "    biases_c1 = tf.Variable(tf.zeros((16)))\n",
    "    strides_c1 = [1, 1, 1, 1]\n",
    "    padding_c1 = 'VALID'\n",
    "    c1 = tf.nn.conv2d(x, weights_c1, strides_c1, padding_c1) + biases_c1\n",
    "    #print(c1.get_shape().as_list())\n",
    "    # Activation.\n",
    "    c1 = tf.nn.relu(c1)\n",
    "    # Pooling. Input = 28x28x6. Output = 14x14x6.    \n",
    "    ksize_p1 = [1, 2, 2, 1]\n",
    "    strides_p1 = [1, 2, 2, 1]\n",
    "    padding_p1 = 'VALID'\n",
    "    p1 = tf.nn.max_pool(c1, ksize_p1, strides_p1, padding_p1)\n",
    "    #print(p1.get_shape().as_list())\n",
    "    # Layer 2: Convolutional. Output = 10x10x16.\n",
    "    weights_c2 = tf.Variable(tf.truncated_normal([5, 5, 16, 32], mean=mu, stddev=sigma))\n",
    "    biases_c2 = tf.Variable(tf.zeros((32)))\n",
    "    strides_c2 = [1, 1, 1, 1]\n",
    "    padding_c2 = 'VALID'\n",
    "    c2 = tf.nn.conv2d(p1, weights_c2, strides_c2, padding_c2) + biases_c2\n",
    "    # Activation.\n",
    "    c2 = tf.nn.relu(c2)\n",
    "    #print(c2.get_shape().as_list())\n",
    "    # Pooling. Input = 10x10x16. Output = 5x5x16.\n",
    "    ksize_p2 = [1, 2, 2, 1]\n",
    "    strides_p2 = [1, 2, 2, 1]\n",
    "    padding_p2 = 'VALID'\n",
    "    p2 = tf.nn.max_pool(c2, ksize_p2, strides_p2, padding_p2)\n",
    "    # Flatten. Input = 5x5x16. Output = 400.    \n",
    "    #print(p2.get_shape().as_list())\n",
    "    #fc1 = tf.reshape(p2, [-1, 400])\n",
    "    fc1 = flatten(p2)\n",
    "    #print(fc1.get_shape().as_list())\n",
    "    # Layer 3: Fully Connected. Input = 400. Output = 120.\n",
    "    weights_fc1 = tf.Variable(tf.truncated_normal([800, 120], mean=mu, stddev=sigma))\n",
    "    biases_fc1 = tf.Variable(tf.zeros([120]))    \n",
    "    fc1 = tf.add(tf.matmul(fc1, weights_fc1), biases_fc1)    \n",
    "    # Batch normalisation\n",
    "    if USE_BATCH_NORM:\n",
    "        fc1 = batch_norm_wrapper(fc1, is_training)\n",
    "    # Activation.\n",
    "    fc1 = tf.nn.relu(fc1)\n",
    "    if USE_DROPOUT:\n",
    "        fc1 = tf.nn.dropout(fc1, dropout_keep_prob)\n",
    "    # Layer 4: Fully Connected. Input = 120. Output = 84.\n",
    "    weights_fc2 = tf.Variable(tf.truncated_normal([120, 84], mean=mu, stddev=sigma))\n",
    "    biases_fc2 = tf.Variable(tf.zeros([84]))\n",
    "    fc2 = tf.add(tf.matmul(fc1, weights_fc2), biases_fc2)\n",
    "    # Batch normalisation\n",
    "    if USE_BATCH_NORM:\n",
    "        fc2 = batch_norm_wrapper(fc2, is_training)\n",
    "    # Activation.\n",
    "    fc2 = tf.nn.relu(fc2)\n",
    "    if USE_DROPOUT:\n",
    "        fc2 = tf.nn.dropout(fc2, dropout_keep_prob)\n",
    "    # Layer 5: Fully Connected. Input = 84. Output = 10.\n",
    "    weights_logits = tf.Variable(tf.truncated_normal([84, 43], mean=mu, stddev=sigma))\n",
    "    biases_logits = tf.Variable(tf.zeros([43]))\n",
    "    logits = tf.add(tf.matmul(fc2, weights_logits), biases_logits)\n",
    "    \n",
    "    cross_entropy = tf.nn.softmax_cross_entropy_with_logits(labels=one_hot_y, logits=logits)\n",
    "    # L2 Regularization on fully connected layers\n",
    "    regularizer = tf.nn.l2_loss(weights_fc1) + tf.nn.l2_loss(weights_fc2)\n",
    "    loss_operation = tf.reduce_mean(cross_entropy + beta * regularizer)\n",
    "    optimizer = tf.train.AdamOptimizer(learning_rate = rate)\n",
    "    training_operation = optimizer.minimize(loss_operation)\n",
    "\n",
    "    # Model Evaluation\n",
    "    correct_prediction = tf.equal(tf.argmax(logits, 1), tf.argmax(one_hot_y, 1))\n",
    "    accuracy_operation = tf.reduce_mean(tf.cast(correct_prediction, tf.float32))\n",
    "    saver = tf.train.Saver()\n",
    "\n",
    "    return (x, y), training_operation, accuracy_operation, dropout_keep_prob, tf.train.Saver()\n",
    "\n",
    "def evaluate(X_data, y_data, accuracy_operation, dropout_keep_prob):\n",
    "    num_examples = len(X_data)\n",
    "    total_accuracy = 0\n",
    "    sess = tf.get_default_session()\n",
    "    for offset in range(0, num_examples, BATCH_SIZE):\n",
    "        batch_x, batch_y = X_data[offset:offset+BATCH_SIZE], y_data[offset:offset+BATCH_SIZE]\n",
    "        accuracy = sess.run(accuracy_operation, feed_dict={x: batch_x, y: batch_y, dropout_keep_prob : 1.0})\n",
    "        total_accuracy += (accuracy * len(batch_x))\n",
    "    return total_accuracy / num_examples"
   ]
  },
  {
   "cell_type": "markdown",
   "metadata": {},
   "source": [
    "### Train, Validate and Test the Model"
   ]
  },
  {
   "cell_type": "markdown",
   "metadata": {},
   "source": [
    "A validation set can be used to assess how well the model is performing. A low accuracy on the training and validation\n",
    "sets imply underfitting. A high accuracy on the training set but low accuracy on the validation set implies overfitting."
   ]
  },
  {
   "cell_type": "code",
   "execution_count": null,
   "metadata": {},
   "outputs": [
    {
     "name": "stdout",
     "output_type": "stream",
     "text": [
      "Training...\n",
      "\n",
      "Failed to load saved variables\n",
      "EPOCH 1 ...\n",
      "Model saved\n",
      "Validation Accuracy = 0.919\n",
      "\n",
      "Training...\n",
      "\n",
      "EPOCH 2 ...\n",
      "Model saved\n",
      "Validation Accuracy = 0.938\n",
      "\n",
      "Training...\n",
      "\n",
      "EPOCH 3 ...\n",
      "Model saved\n",
      "Validation Accuracy = 0.971\n",
      "\n",
      "Training...\n",
      "\n",
      "EPOCH 4 ...\n",
      "Model saved\n",
      "Validation Accuracy = 0.970\n",
      "\n",
      "Training...\n",
      "\n",
      "EPOCH 5 ...\n",
      "Model saved\n",
      "Validation Accuracy = 0.978\n",
      "\n",
      "Training...\n",
      "\n",
      "EPOCH 6 ...\n",
      "Model saved\n",
      "Validation Accuracy = 0.976\n",
      "\n",
      "Training...\n",
      "\n",
      "EPOCH 7 ...\n",
      "Model saved\n",
      "Validation Accuracy = 0.974\n",
      "\n",
      "Training...\n",
      "\n",
      "EPOCH 8 ...\n",
      "Model saved\n",
      "Validation Accuracy = 0.976\n",
      "\n",
      "Training...\n",
      "\n",
      "EPOCH 9 ...\n",
      "Model saved\n",
      "Validation Accuracy = 0.974\n",
      "\n",
      "Training...\n",
      "\n",
      "EPOCH 10 ...\n",
      "Model saved\n",
      "Validation Accuracy = 0.981\n",
      "\n",
      "Training...\n",
      "\n",
      "EPOCH 11 ...\n",
      "Model saved\n",
      "Validation Accuracy = 0.974\n",
      "\n",
      "Training...\n",
      "\n",
      "EPOCH 12 ...\n",
      "Model saved\n",
      "Validation Accuracy = 0.980\n",
      "\n",
      "Training...\n",
      "\n",
      "EPOCH 13 ...\n",
      "Model saved\n",
      "Validation Accuracy = 0.976\n",
      "\n",
      "Training...\n",
      "\n",
      "EPOCH 14 ...\n",
      "Model saved\n",
      "Validation Accuracy = 0.984\n",
      "\n",
      "Training...\n",
      "\n",
      "EPOCH 15 ...\n",
      "Model saved\n",
      "Validation Accuracy = 0.982\n",
      "\n",
      "Training...\n",
      "\n",
      "EPOCH 16 ...\n",
      "Model saved\n",
      "Validation Accuracy = 0.973\n",
      "\n",
      "Training...\n",
      "\n",
      "EPOCH 17 ...\n",
      "Model saved\n",
      "Validation Accuracy = 0.983\n",
      "\n",
      "Training...\n",
      "\n",
      "EPOCH 18 ...\n",
      "Model saved\n",
      "Validation Accuracy = 0.977\n",
      "\n",
      "Training...\n",
      "\n",
      "EPOCH 19 ...\n",
      "Model saved\n",
      "Validation Accuracy = 0.978\n",
      "\n",
      "Training...\n",
      "\n",
      "EPOCH 20 ...\n",
      "Model saved\n",
      "Validation Accuracy = 0.981\n",
      "\n",
      "Training...\n",
      "\n",
      "EPOCH 21 ...\n",
      "Model saved\n",
      "Validation Accuracy = 0.980\n",
      "\n",
      "Training...\n",
      "\n",
      "EPOCH 22 ...\n",
      "Model saved\n",
      "Validation Accuracy = 0.980\n",
      "\n",
      "Training...\n",
      "\n",
      "EPOCH 23 ...\n",
      "Model saved\n",
      "Validation Accuracy = 0.979\n",
      "\n",
      "Training...\n",
      "\n",
      "EPOCH 24 ...\n",
      "Model saved\n",
      "Validation Accuracy = 0.981\n",
      "\n",
      "Training...\n",
      "\n",
      "EPOCH 25 ...\n",
      "Model saved\n",
      "Validation Accuracy = 0.982\n",
      "\n",
      "Training...\n",
      "\n",
      "EPOCH 26 ...\n",
      "Model saved\n",
      "Validation Accuracy = 0.980\n",
      "\n",
      "Training...\n",
      "\n",
      "EPOCH 27 ...\n",
      "Model saved\n",
      "Validation Accuracy = 0.983\n",
      "\n",
      "Training...\n",
      "\n",
      "EPOCH 28 ...\n",
      "Model saved\n",
      "Validation Accuracy = 0.981\n",
      "\n",
      "Training...\n",
      "\n"
     ]
    }
   ],
   "source": [
    "### Train your model here.\n",
    "### Calculate and report the accuracy on the training and validation set.\n",
    "### Once a final model architecture is selected, \n",
    "### the accuracy on the test set should be calculated and reported as well.\n",
    "### Feel free to use as many code cells as needed.\n",
    "from sklearn.utils import shuffle\n",
    "\n",
    "train_accuracies = []\n",
    "validation_accuracies = []\n",
    "\n",
    "for i in range(EPOCHS): \n",
    "    tf.reset_default_graph()\n",
    "    (x, y), training_operation, accuracy_operation, dropout_keep_prob, saver = LeNet(is_training=True)\n",
    "\n",
    "    num_examples = len(X_train)    \n",
    "    \n",
    "    print(\"Training...\")\n",
    "    print()\n",
    "    with tf.Session() as sess:\n",
    "        sess.run(tf.global_variables_initializer())\n",
    "        try:\n",
    "            saver.restore(sess, './lenet')\n",
    "        except:\n",
    "            print(\"Failed to load saved variables\")\n",
    "        \n",
    "        X_train, y_train = shuffle(X_train, y_train)\n",
    "        for offset in range(0, num_examples, BATCH_SIZE):\n",
    "            end = offset + BATCH_SIZE\n",
    "            batch_x, batch_y = X_train[offset:end], y_train[offset:end]\n",
    "            sess.run(training_operation, feed_dict={x: batch_x, y: batch_y, dropout_keep_prob : DROPOUT_RATE})\n",
    "       \n",
    "        print(\"EPOCH {} ...\".format(i+1))\n",
    "        saver.save(sess, './lenet')\n",
    "        print(\"Model saved\")\n",
    "        \n",
    "    tf.reset_default_graph()\n",
    "    (x, y), training_operation, accuracy_operation, dropout_keep_prob, saver = LeNet(is_training=False)\n",
    "    with tf.Session() as sess:\n",
    "        sess.run(tf.global_variables_initializer())\n",
    "        saver.restore(sess, './lenet')\n",
    "        \n",
    "        train_accuracy = evaluate(X_train, y_train, accuracy_operation, dropout_keep_prob)\n",
    "        train_accuracies.append(train_accuracy)\n",
    "        validation_accuracy = evaluate(X_validation, y_validation, accuracy_operation, dropout_keep_prob)\n",
    "        validation_accuracies.append(validation_accuracy)        \n",
    "        print(\"Validation Accuracy = {:.3f}\".format(validation_accuracy))    \n",
    "        print()"
   ]
  },
  {
   "cell_type": "code",
   "execution_count": null,
   "metadata": {},
   "outputs": [],
   "source": [
    "# Plot train accuracies and validation accuracies. Check for underfit or overfit\n",
    "plt.figure()\n",
    "plt.gca().set_color_cycle(['red', 'green'])\n",
    "plt.plot(train_accuracies)\n",
    "plt.plot(validation_accuracies)\n",
    "plt.legend(['train accuracy', 'validation accuracy'], loc='upper left')\n",
    "plt.show()"
   ]
  },
  {
   "cell_type": "markdown",
   "metadata": {},
   "source": [
    "---\n",
    "\n",
    "## Step 3: Test a Model on New Images\n",
    "\n",
    "To give yourself more insight into how your model is working, download at least five pictures of German traffic signs from the web and use your model to predict the traffic sign type.\n",
    "\n",
    "You may find `signnames.csv` useful as it contains mappings from the class id (integer) to the actual sign name."
   ]
  },
  {
   "cell_type": "markdown",
   "metadata": {},
   "source": [
    "### Load and Output the Images"
   ]
  },
  {
   "cell_type": "code",
   "execution_count": null,
   "metadata": {},
   "outputs": [],
   "source": [
    "### Load the images and plot them here.\n",
    "### Feel free to use as many code cells as needed."
   ]
  },
  {
   "cell_type": "markdown",
   "metadata": {},
   "source": [
    "### Predict the Sign Type for Each Image"
   ]
  },
  {
   "cell_type": "code",
   "execution_count": null,
   "metadata": {},
   "outputs": [],
   "source": [
    "### Run the predictions here and use the model to output the prediction for each image.\n",
    "### Make sure to pre-process the images with the same pre-processing pipeline used earlier.\n",
    "### Feel free to use as many code cells as needed."
   ]
  },
  {
   "cell_type": "markdown",
   "metadata": {},
   "source": [
    "### Analyze Performance"
   ]
  },
  {
   "cell_type": "code",
   "execution_count": null,
   "metadata": {},
   "outputs": [],
   "source": [
    "### Calculate the accuracy for these 5 new images. \n",
    "### For example, if the model predicted 1 out of 5 signs correctly, it's 20% accurate on these new images."
   ]
  },
  {
   "cell_type": "markdown",
   "metadata": {},
   "source": [
    "### Output Top 5 Softmax Probabilities For Each Image Found on the Web"
   ]
  },
  {
   "cell_type": "markdown",
   "metadata": {},
   "source": [
    "For each of the new images, print out the model's softmax probabilities to show the **certainty** of the model's predictions (limit the output to the top 5 probabilities for each image). [`tf.nn.top_k`](https://www.tensorflow.org/versions/r0.12/api_docs/python/nn.html#top_k) could prove helpful here. \n",
    "\n",
    "The example below demonstrates how tf.nn.top_k can be used to find the top k predictions for each image.\n",
    "\n",
    "`tf.nn.top_k` will return the values and indices (class ids) of the top k predictions. So if k=3, for each sign, it'll return the 3 largest probabilities (out of a possible 43) and the correspoding class ids.\n",
    "\n",
    "Take this numpy array as an example. The values in the array represent predictions. The array contains softmax probabilities for five candidate images with six possible classes. `tf.nn.top_k` is used to choose the three classes with the highest probability:\n",
    "\n",
    "```\n",
    "# (5, 6) array\n",
    "a = np.array([[ 0.24879643,  0.07032244,  0.12641572,  0.34763842,  0.07893497,\n",
    "         0.12789202],\n",
    "       [ 0.28086119,  0.27569815,  0.08594638,  0.0178669 ,  0.18063401,\n",
    "         0.15899337],\n",
    "       [ 0.26076848,  0.23664738,  0.08020603,  0.07001922,  0.1134371 ,\n",
    "         0.23892179],\n",
    "       [ 0.11943333,  0.29198961,  0.02605103,  0.26234032,  0.1351348 ,\n",
    "         0.16505091],\n",
    "       [ 0.09561176,  0.34396535,  0.0643941 ,  0.16240774,  0.24206137,\n",
    "         0.09155967]])\n",
    "```\n",
    "\n",
    "Running it through `sess.run(tf.nn.top_k(tf.constant(a), k=3))` produces:\n",
    "\n",
    "```\n",
    "TopKV2(values=array([[ 0.34763842,  0.24879643,  0.12789202],\n",
    "       [ 0.28086119,  0.27569815,  0.18063401],\n",
    "       [ 0.26076848,  0.23892179,  0.23664738],\n",
    "       [ 0.29198961,  0.26234032,  0.16505091],\n",
    "       [ 0.34396535,  0.24206137,  0.16240774]]), indices=array([[3, 0, 5],\n",
    "       [0, 1, 4],\n",
    "       [0, 5, 1],\n",
    "       [1, 3, 5],\n",
    "       [1, 4, 3]], dtype=int32))\n",
    "```\n",
    "\n",
    "Looking just at the first row we get `[ 0.34763842,  0.24879643,  0.12789202]`, you can confirm these are the 3 largest probabilities in `a`. You'll also notice `[3, 0, 5]` are the corresponding indices."
   ]
  },
  {
   "cell_type": "code",
   "execution_count": null,
   "metadata": {},
   "outputs": [],
   "source": [
    "### Print out the top five softmax probabilities for the predictions on the German traffic sign images found on the web. \n",
    "### Feel free to use as many code cells as needed."
   ]
  },
  {
   "cell_type": "markdown",
   "metadata": {},
   "source": [
    "### Project Writeup\n",
    "\n",
    "Once you have completed the code implementation, document your results in a project writeup using this [template](https://github.com/udacity/CarND-Traffic-Sign-Classifier-Project/blob/master/writeup_template.md) as a guide. The writeup can be in a markdown or pdf file. "
   ]
  },
  {
   "cell_type": "markdown",
   "metadata": {},
   "source": [
    "> **Note**: Once you have completed all of the code implementations and successfully answered each question above, you may finalize your work by exporting the iPython Notebook as an HTML document. You can do this by using the menu above and navigating to  \\n\",\n",
    "    \"**File -> Download as -> HTML (.html)**. Include the finished document along with this notebook as your submission."
   ]
  },
  {
   "cell_type": "markdown",
   "metadata": {},
   "source": [
    "---\n",
    "\n",
    "## Step 4 (Optional): Visualize the Neural Network's State with Test Images\n",
    "\n",
    " This Section is not required to complete but acts as an additional excersise for understaning the output of a neural network's weights. While neural networks can be a great learning device they are often referred to as a black box. We can understand what the weights of a neural network look like better by plotting their feature maps. After successfully training your neural network you can see what it's feature maps look like by plotting the output of the network's weight layers in response to a test stimuli image. From these plotted feature maps, it's possible to see what characteristics of an image the network finds interesting. For a sign, maybe the inner network feature maps react with high activation to the sign's boundary outline or to the contrast in the sign's painted symbol.\n",
    "\n",
    " Provided for you below is the function code that allows you to get the visualization output of any tensorflow weight layer you want. The inputs to the function should be a stimuli image, one used during training or a new one you provided, and then the tensorflow variable name that represents the layer's state during the training process, for instance if you wanted to see what the [LeNet lab's](https://classroom.udacity.com/nanodegrees/nd013/parts/fbf77062-5703-404e-b60c-95b78b2f3f9e/modules/6df7ae49-c61c-4bb2-a23e-6527e69209ec/lessons/601ae704-1035-4287-8b11-e2c2716217ad/concepts/d4aca031-508f-4e0b-b493-e7b706120f81) feature maps looked like for it's second convolutional layer you could enter conv2 as the tf_activation variable.\n",
    "\n",
    "For an example of what feature map outputs look like, check out NVIDIA's results in their paper [End-to-End Deep Learning for Self-Driving Cars](https://devblogs.nvidia.com/parallelforall/deep-learning-self-driving-cars/) in the section Visualization of internal CNN State. NVIDIA was able to show that their network's inner weights had high activations to road boundary lines by comparing feature maps from an image with a clear path to one without. Try experimenting with a similar test to show that your trained network's weights are looking for interesting features, whether it's looking at differences in feature maps from images with or without a sign, or even what feature maps look like in a trained network vs a completely untrained one on the same sign image.\n",
    "\n",
    "<figure>\n",
    " <img src=\"visualize_cnn.png\" width=\"380\" alt=\"Combined Image\" />\n",
    " <figcaption>\n",
    " <p></p> \n",
    " <p style=\"text-align: center;\"> Your output should look something like this (above)</p> \n",
    " </figcaption>\n",
    "</figure>\n",
    " <p></p> \n"
   ]
  },
  {
   "cell_type": "code",
   "execution_count": null,
   "metadata": {},
   "outputs": [],
   "source": [
    "### Visualize your network's feature maps here.\n",
    "### Feel free to use as many code cells as needed.\n",
    "\n",
    "# image_input: the test image being fed into the network to produce the feature maps\n",
    "# tf_activation: should be a tf variable name used during your training procedure that represents the calculated state of a specific weight layer\n",
    "# activation_min/max: can be used to view the activation contrast in more detail, by default matplot sets min and max to the actual min and max values of the output\n",
    "# plt_num: used to plot out multiple different weight feature map sets on the same block, just extend the plt number for each new feature map entry\n",
    "\n",
    "def outputFeatureMap(image_input, tf_activation, activation_min=-1, activation_max=-1 ,plt_num=1):\n",
    "    # Here make sure to preprocess your image_input in a way your network expects\n",
    "    # with size, normalization, ect if needed\n",
    "    # image_input =\n",
    "    # Note: x should be the same name as your network's tensorflow data placeholder variable\n",
    "    # If you get an error tf_activation is not defined it may be having trouble accessing the variable from inside a function\n",
    "    activation = tf_activation.eval(session=sess,feed_dict={x : image_input})\n",
    "    featuremaps = activation.shape[3]\n",
    "    plt.figure(plt_num, figsize=(15,15))\n",
    "    for featuremap in range(featuremaps):\n",
    "        plt.subplot(6,8, featuremap+1) # sets the number of feature maps to show on each row and column\n",
    "        plt.title('FeatureMap ' + str(featuremap)) # displays the feature map number\n",
    "        if activation_min != -1 & activation_max != -1:\n",
    "            plt.imshow(activation[0,:,:, featuremap], interpolation=\"nearest\", vmin =activation_min, vmax=activation_max, cmap=\"gray\")\n",
    "        elif activation_max != -1:\n",
    "            plt.imshow(activation[0,:,:, featuremap], interpolation=\"nearest\", vmax=activation_max, cmap=\"gray\")\n",
    "        elif activation_min !=-1:\n",
    "            plt.imshow(activation[0,:,:, featuremap], interpolation=\"nearest\", vmin=activation_min, cmap=\"gray\")\n",
    "        else:\n",
    "            plt.imshow(activation[0,:,:, featuremap], interpolation=\"nearest\", cmap=\"gray\")"
   ]
  }
 ],
 "metadata": {
  "anaconda-cloud": {},
  "kernelspec": {
   "display_name": "Python 3",
   "language": "python",
   "name": "python3"
  },
  "language_info": {
   "codemirror_mode": {
    "name": "ipython",
    "version": 3
   },
   "file_extension": ".py",
   "mimetype": "text/x-python",
   "name": "python",
   "nbconvert_exporter": "python",
   "pygments_lexer": "ipython3",
   "version": "3.5.2"
  },
  "widgets": {
   "state": {},
   "version": "1.1.2"
  }
 },
 "nbformat": 4,
 "nbformat_minor": 1
}
